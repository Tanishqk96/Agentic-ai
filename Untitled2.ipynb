{
  "nbformat": 4,
  "nbformat_minor": 0,
  "metadata": {
    "colab": {
      "provenance": [],
      "authorship_tag": "ABX9TyNQ+tOTpLx6wni9MCBNE+am",
      "include_colab_link": true
    },
    "kernelspec": {
      "name": "python3",
      "display_name": "Python 3"
    },
    "language_info": {
      "name": "python"
    }
  },
  "cells": [
    {
      "cell_type": "markdown",
      "metadata": {
        "id": "view-in-github",
        "colab_type": "text"
      },
      "source": [
        "<a href=\"https://colab.research.google.com/github/Tanishqk96/Agentic-ai/blob/main/Untitled2.ipynb\" target=\"_parent\"><img src=\"https://colab.research.google.com/assets/colab-badge.svg\" alt=\"Open In Colab\"/></a>"
      ]
    },
    {
      "cell_type": "code",
      "execution_count": null,
      "metadata": {
        "colab": {
          "base_uri": "https://localhost:8080/"
        },
        "id": "T6oaPHJqquUz",
        "outputId": "43204b3d-34be-435a-8325-cc4d7a1db9be"
      },
      "outputs": [
        {
          "output_type": "stream",
          "name": "stdout",
          "text": [
            "Requirement already satisfied: nltk in /usr/local/lib/python3.11/dist-packages (3.9.1)\n",
            "Requirement already satisfied: click in /usr/local/lib/python3.11/dist-packages (from nltk) (8.2.0)\n",
            "Requirement already satisfied: joblib in /usr/local/lib/python3.11/dist-packages (from nltk) (1.5.0)\n",
            "Requirement already satisfied: regex>=2021.8.3 in /usr/local/lib/python3.11/dist-packages (from nltk) (2024.11.6)\n",
            "Requirement already satisfied: tqdm in /usr/local/lib/python3.11/dist-packages (from nltk) (4.67.1)\n"
          ]
        }
      ],
      "source": [
        "!pip install nltk"
      ]
    },
    {
      "cell_type": "code",
      "source": [
        "import nltk\n",
        "nltk.download('punkt_tab')"
      ],
      "metadata": {
        "colab": {
          "base_uri": "https://localhost:8080/"
        },
        "id": "Hu2Hd1X1tBgc",
        "outputId": "f223286a-939c-4787-e677-e68e10181cda"
      },
      "execution_count": null,
      "outputs": [
        {
          "output_type": "stream",
          "name": "stderr",
          "text": [
            "[nltk_data] Downloading package punkt_tab to /root/nltk_data...\n",
            "[nltk_data]   Unzipping tokenizers/punkt_tab.zip.\n"
          ]
        },
        {
          "output_type": "execute_result",
          "data": {
            "text/plain": [
              "True"
            ]
          },
          "metadata": {},
          "execution_count": 12
        }
      ]
    },
    {
      "cell_type": "code",
      "source": [
        "corpus=\"\"\"My name is Tanishq and i love learning AI. I also have a keen interest in learning and doing web development!\n",
        "i am looking for internships.\n",
        "\"\"\""
      ],
      "metadata": {
        "id": "mAiAH_C8q3js"
      },
      "execution_count": null,
      "outputs": []
    },
    {
      "cell_type": "code",
      "source": [
        "print(corpus)"
      ],
      "metadata": {
        "colab": {
          "base_uri": "https://localhost:8080/"
        },
        "id": "AXb7mJ14rP1w",
        "outputId": "e01b4a42-fd7a-4c0f-be93-afe7bc5a92d7"
      },
      "execution_count": null,
      "outputs": [
        {
          "output_type": "stream",
          "name": "stdout",
          "text": [
            "My name is Tanishq and i love learning AI. I also have a keen interest in learning and doing web development!\n",
            "i am looking for internships.\n",
            "\n"
          ]
        }
      ]
    },
    {
      "cell_type": "markdown",
      "source": [
        "paragraph ---> setences."
      ],
      "metadata": {
        "id": "IFCpWJ4burzo"
      }
    },
    {
      "cell_type": "code",
      "source": [
        "from nltk.tokenize import sent_tokenize"
      ],
      "metadata": {
        "id": "X28jnJGgrSCu"
      },
      "execution_count": null,
      "outputs": []
    },
    {
      "cell_type": "code",
      "source": [
        "sent_tokenize(corpus)"
      ],
      "metadata": {
        "colab": {
          "base_uri": "https://localhost:8080/"
        },
        "id": "xdi299Corc4g",
        "outputId": "ecb57e13-7219-4ad0-84f9-98d982c58815"
      },
      "execution_count": null,
      "outputs": [
        {
          "output_type": "execute_result",
          "data": {
            "text/plain": [
              "['My name is Tanishq and i love learning AI.',\n",
              " 'I also have a keen interest in learning and doing web development!',\n",
              " 'i am looking for internships.']"
            ]
          },
          "metadata": {},
          "execution_count": 13
        }
      ]
    },
    {
      "cell_type": "code",
      "source": [
        "from nltk.tokenize import word_tokenize"
      ],
      "metadata": {
        "id": "4_yYzv79szFt"
      },
      "execution_count": 14,
      "outputs": []
    },
    {
      "cell_type": "code",
      "source": [
        "words=word_tokenize(corpus)"
      ],
      "metadata": {
        "id": "Nw8YxXw2wJjg"
      },
      "execution_count": 15,
      "outputs": []
    },
    {
      "cell_type": "code",
      "source": [
        "words"
      ],
      "metadata": {
        "colab": {
          "base_uri": "https://localhost:8080/"
        },
        "id": "u87JrE_wwN9g",
        "outputId": "6c7d70fd-ea4a-4c35-ff29-92bfcda2e774"
      },
      "execution_count": 16,
      "outputs": [
        {
          "output_type": "execute_result",
          "data": {
            "text/plain": [
              "['My',\n",
              " 'name',\n",
              " 'is',\n",
              " 'Tanishq',\n",
              " 'and',\n",
              " 'i',\n",
              " 'love',\n",
              " 'learning',\n",
              " 'AI',\n",
              " '.',\n",
              " 'I',\n",
              " 'also',\n",
              " 'have',\n",
              " 'a',\n",
              " 'keen',\n",
              " 'interest',\n",
              " 'in',\n",
              " 'learning',\n",
              " 'and',\n",
              " 'doing',\n",
              " 'web',\n",
              " 'development',\n",
              " '!',\n",
              " 'i',\n",
              " 'am',\n",
              " 'looking',\n",
              " 'for',\n",
              " 'internships',\n",
              " '.']"
            ]
          },
          "metadata": {},
          "execution_count": 16
        }
      ]
    },
    {
      "cell_type": "code",
      "source": [
        "from nltk.tokenize import wordpunct_tokenize"
      ],
      "metadata": {
        "id": "pAd5dEACwOsr"
      },
      "execution_count": 17,
      "outputs": []
    },
    {
      "cell_type": "code",
      "source": [
        "wordswithpunct = wordpunct_tokenize(corpus)"
      ],
      "metadata": {
        "id": "DNTTvhmdwp4K"
      },
      "execution_count": 20,
      "outputs": []
    },
    {
      "cell_type": "code",
      "source": [
        "wordswithpunct\n"
      ],
      "metadata": {
        "colab": {
          "base_uri": "https://localhost:8080/"
        },
        "id": "GjAztWrgwu0h",
        "outputId": "7d447af2-ffb1-4831-9d4e-9de94a619dd7"
      },
      "execution_count": 21,
      "outputs": [
        {
          "output_type": "execute_result",
          "data": {
            "text/plain": [
              "['My',\n",
              " 'name',\n",
              " 'is',\n",
              " 'Tanishq',\n",
              " 'and',\n",
              " 'i',\n",
              " 'love',\n",
              " 'learning',\n",
              " 'AI',\n",
              " '.',\n",
              " 'I',\n",
              " 'also',\n",
              " 'have',\n",
              " 'a',\n",
              " 'keen',\n",
              " 'interest',\n",
              " 'in',\n",
              " 'learning',\n",
              " 'and',\n",
              " 'doing',\n",
              " 'web',\n",
              " 'development',\n",
              " '!',\n",
              " 'i',\n",
              " 'am',\n",
              " 'looking',\n",
              " 'for',\n",
              " 'internships',\n",
              " '.']"
            ]
          },
          "metadata": {},
          "execution_count": 21
        }
      ]
    },
    {
      "cell_type": "code",
      "source": [
        "from nltk.tokenize import TreebankWordTokenizer"
      ],
      "metadata": {
        "id": "5N6ay4itwwCF"
      },
      "execution_count": 23,
      "outputs": []
    },
    {
      "cell_type": "code",
      "source": [
        "tokenizer= TreebankWordTokenizer()\n"
      ],
      "metadata": {
        "id": "UiC0FBnXxX0l"
      },
      "execution_count": 28,
      "outputs": []
    },
    {
      "cell_type": "code",
      "source": [
        "tokenizer.tokenize(corpus)"
      ],
      "metadata": {
        "colab": {
          "base_uri": "https://localhost:8080/"
        },
        "id": "FbQkRghexhp8",
        "outputId": "054bd285-d739-4bd2-cf7e-3a929b4d6640"
      },
      "execution_count": 29,
      "outputs": [
        {
          "output_type": "execute_result",
          "data": {
            "text/plain": [
              "['My',\n",
              " 'name',\n",
              " 'is',\n",
              " 'Tanishq',\n",
              " 'and',\n",
              " 'i',\n",
              " 'love',\n",
              " 'learning',\n",
              " 'AI.',\n",
              " 'I',\n",
              " 'also',\n",
              " 'have',\n",
              " 'a',\n",
              " 'keen',\n",
              " 'interest',\n",
              " 'in',\n",
              " 'learning',\n",
              " 'and',\n",
              " 'doing',\n",
              " 'web',\n",
              " 'development',\n",
              " '!',\n",
              " 'i',\n",
              " 'am',\n",
              " 'looking',\n",
              " 'for',\n",
              " 'internships',\n",
              " '.']"
            ]
          },
          "metadata": {},
          "execution_count": 29
        }
      ]
    },
    {
      "cell_type": "markdown",
      "source": [
        "this will not treat full stops as seperate word."
      ],
      "metadata": {
        "id": "BVGS6Lp_xvtK"
      }
    },
    {
      "cell_type": "code",
      "source": [
        "words =[\"eating\", \"doing\",\"history\",\"congratulations\"];\n"
      ],
      "metadata": {
        "id": "vHtO_C2txueB"
      },
      "execution_count": 30,
      "outputs": []
    },
    {
      "cell_type": "code",
      "source": [
        "from nltk.stem import PorterStemmer"
      ],
      "metadata": {
        "id": "L16FmdYuBDT1"
      },
      "execution_count": 31,
      "outputs": []
    },
    {
      "cell_type": "code",
      "source": [
        "stemming = PorterStemmer()\n",
        "for word in words:\n",
        "  print(word+\"-->\"+stemming.stem(word))"
      ],
      "metadata": {
        "colab": {
          "base_uri": "https://localhost:8080/"
        },
        "id": "ZqABCrWMBGli",
        "outputId": "c98dd09e-0a34-4070-c0f9-99e0a8b10124"
      },
      "execution_count": 37,
      "outputs": [
        {
          "output_type": "stream",
          "name": "stdout",
          "text": [
            "eating-->eat\n",
            "doing-->do\n",
            "history-->histori\n",
            "congratulations-->congratul\n"
          ]
        }
      ]
    },
    {
      "cell_type": "markdown",
      "source": [
        "not very good and efficient"
      ],
      "metadata": {
        "id": "2YTuxX_gBqov"
      }
    },
    {
      "cell_type": "code",
      "source": [
        "from nltk.stem import RegexpStemmer"
      ],
      "metadata": {
        "id": "IzlcejMfBMn8"
      },
      "execution_count": 38,
      "outputs": []
    },
    {
      "cell_type": "code",
      "source": [
        "regstem = RegexpStemmer('ing$',min=4)"
      ],
      "metadata": {
        "id": "4pIuzxbMCBOu"
      },
      "execution_count": 39,
      "outputs": []
    },
    {
      "cell_type": "code",
      "source": [
        "regstem.stem('eating')"
      ],
      "metadata": {
        "colab": {
          "base_uri": "https://localhost:8080/",
          "height": 35
        },
        "id": "23ET6hfJCLFA",
        "outputId": "cc21cec8-77c8-469a-b7c4-76def32c42ed"
      },
      "execution_count": 42,
      "outputs": [
        {
          "output_type": "execute_result",
          "data": {
            "text/plain": [
              "'eat'"
            ],
            "application/vnd.google.colaboratory.intrinsic+json": {
              "type": "string"
            }
          },
          "metadata": {},
          "execution_count": 42
        }
      ]
    },
    {
      "cell_type": "markdown",
      "source": [
        "***LEMMATIZER***"
      ],
      "metadata": {
        "id": "r5rx2snfFxnj"
      }
    },
    {
      "cell_type": "code",
      "source": [
        "from nltk.stem import WordNetLemmatizer"
      ],
      "metadata": {
        "id": "BlQEG89XCPTQ"
      },
      "execution_count": 43,
      "outputs": []
    },
    {
      "cell_type": "code",
      "source": [
        "lemmatizer =  WordNetLemmatizer()\n",
        "nltk.download('wordnet')"
      ],
      "metadata": {
        "colab": {
          "base_uri": "https://localhost:8080/"
        },
        "id": "znh4q066FWEK",
        "outputId": "688d6cd1-d0c5-411d-e1bc-6c4e95dae47c"
      },
      "execution_count": 46,
      "outputs": [
        {
          "output_type": "stream",
          "name": "stderr",
          "text": [
            "[nltk_data] Downloading package wordnet to /root/nltk_data...\n"
          ]
        },
        {
          "output_type": "execute_result",
          "data": {
            "text/plain": [
              "True"
            ]
          },
          "metadata": {},
          "execution_count": 46
        }
      ]
    },
    {
      "cell_type": "code",
      "source": [
        "lemmatizer.lemmatize(\"going\",pos='v')"
      ],
      "metadata": {
        "colab": {
          "base_uri": "https://localhost:8080/",
          "height": 35
        },
        "id": "zZDD4w3zFZZ3",
        "outputId": "191ae78d-7dbb-464d-a7ff-1f6889553893"
      },
      "execution_count": 48,
      "outputs": [
        {
          "output_type": "execute_result",
          "data": {
            "text/plain": [
              "'go'"
            ],
            "application/vnd.google.colaboratory.intrinsic+json": {
              "type": "string"
            }
          },
          "metadata": {},
          "execution_count": 48
        }
      ]
    },
    {
      "cell_type": "code",
      "source": [],
      "metadata": {
        "id": "tg_Bx-aPFocK"
      },
      "execution_count": null,
      "outputs": []
    }
  ]
}