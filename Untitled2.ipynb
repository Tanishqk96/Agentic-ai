{
  "nbformat": 4,
  "nbformat_minor": 0,
  "metadata": {
    "colab": {
      "provenance": [],
      "authorship_tag": "ABX9TyNiPIoOWNgfyr3t986U6x9P",
      "include_colab_link": true
    },
    "kernelspec": {
      "name": "python3",
      "display_name": "Python 3"
    },
    "language_info": {
      "name": "python"
    }
  },
  "cells": [
    {
      "cell_type": "markdown",
      "metadata": {
        "id": "view-in-github",
        "colab_type": "text"
      },
      "source": [
        "<a href=\"https://colab.research.google.com/github/Tanishqk96/Agentic-ai/blob/main/Untitled2.ipynb\" target=\"_parent\"><img src=\"https://colab.research.google.com/assets/colab-badge.svg\" alt=\"Open In Colab\"/></a>"
      ]
    },
    {
      "cell_type": "code",
      "execution_count": 8,
      "metadata": {
        "colab": {
          "base_uri": "https://localhost:8080/"
        },
        "id": "T6oaPHJqquUz",
        "outputId": "bfaeb1d3-5a07-4aad-846c-5bb252fbca6b"
      },
      "outputs": [
        {
          "output_type": "stream",
          "name": "stdout",
          "text": [
            "Requirement already satisfied: nltk in /usr/local/lib/python3.11/dist-packages (3.9.1)\n",
            "Requirement already satisfied: click in /usr/local/lib/python3.11/dist-packages (from nltk) (8.2.0)\n",
            "Requirement already satisfied: joblib in /usr/local/lib/python3.11/dist-packages (from nltk) (1.5.0)\n",
            "Requirement already satisfied: regex>=2021.8.3 in /usr/local/lib/python3.11/dist-packages (from nltk) (2024.11.6)\n",
            "Requirement already satisfied: tqdm in /usr/local/lib/python3.11/dist-packages (from nltk) (4.67.1)\n"
          ]
        }
      ],
      "source": [
        "!pip install nltk"
      ]
    },
    {
      "cell_type": "code",
      "source": [
        "import nltk\n",
        "nltk.download('punkt_tab')"
      ],
      "metadata": {
        "colab": {
          "base_uri": "https://localhost:8080/"
        },
        "id": "Hu2Hd1X1tBgc",
        "outputId": "2913d153-d8df-423f-ac48-9eab51d7fcc0"
      },
      "execution_count": 9,
      "outputs": [
        {
          "output_type": "stream",
          "name": "stderr",
          "text": [
            "[nltk_data] Downloading package punkt_tab to /root/nltk_data...\n",
            "[nltk_data]   Unzipping tokenizers/punkt_tab.zip.\n"
          ]
        },
        {
          "output_type": "execute_result",
          "data": {
            "text/plain": [
              "True"
            ]
          },
          "metadata": {},
          "execution_count": 9
        }
      ]
    },
    {
      "cell_type": "code",
      "source": [
        "corpus=\"\"\"My name is Tanishq and i love learning AI. I also have a keen interest in learning and doing web development!\n",
        "i am looking for internships.\n",
        "\"\"\""
      ],
      "metadata": {
        "id": "mAiAH_C8q3js"
      },
      "execution_count": 10,
      "outputs": []
    },
    {
      "cell_type": "code",
      "source": [
        "print(corpus)"
      ],
      "metadata": {
        "colab": {
          "base_uri": "https://localhost:8080/"
        },
        "id": "AXb7mJ14rP1w",
        "outputId": "e005c45f-3d8e-455d-fd11-fdded7d860f5"
      },
      "execution_count": 11,
      "outputs": [
        {
          "output_type": "stream",
          "name": "stdout",
          "text": [
            "My name is Tanishq and i love learning AI. I also have a keen interest in learning and doing web development!\n",
            "i am looking for internships.\n",
            "\n"
          ]
        }
      ]
    },
    {
      "cell_type": "markdown",
      "source": [
        "paragraph ---> setences."
      ],
      "metadata": {
        "id": "IFCpWJ4burzo"
      }
    },
    {
      "cell_type": "code",
      "source": [
        "from nltk.tokenize import sent_tokenize"
      ],
      "metadata": {
        "id": "X28jnJGgrSCu"
      },
      "execution_count": 12,
      "outputs": []
    },
    {
      "cell_type": "code",
      "source": [
        "sent_tokenize(corpus)"
      ],
      "metadata": {
        "colab": {
          "base_uri": "https://localhost:8080/"
        },
        "id": "xdi299Corc4g",
        "outputId": "cdb853d9-0a67-458a-bb9e-ccfe1fb13a4a"
      },
      "execution_count": 13,
      "outputs": [
        {
          "output_type": "execute_result",
          "data": {
            "text/plain": [
              "['My name is Tanishq and i love learning AI.',\n",
              " 'I also have a keen interest in learning and doing web development!',\n",
              " 'i am looking for internships.']"
            ]
          },
          "metadata": {},
          "execution_count": 13
        }
      ]
    },
    {
      "cell_type": "code",
      "source": [
        "from nltk.tokenize import word_tokenize"
      ],
      "metadata": {
        "id": "4_yYzv79szFt"
      },
      "execution_count": 14,
      "outputs": []
    },
    {
      "cell_type": "code",
      "source": [
        "words=word_tokenize(corpus)"
      ],
      "metadata": {
        "id": "Nw8YxXw2wJjg"
      },
      "execution_count": 15,
      "outputs": []
    },
    {
      "cell_type": "code",
      "source": [
        "words"
      ],
      "metadata": {
        "colab": {
          "base_uri": "https://localhost:8080/"
        },
        "id": "u87JrE_wwN9g",
        "outputId": "a530880a-7291-47b2-8191-730fba089d40"
      },
      "execution_count": 16,
      "outputs": [
        {
          "output_type": "execute_result",
          "data": {
            "text/plain": [
              "['My',\n",
              " 'name',\n",
              " 'is',\n",
              " 'Tanishq',\n",
              " 'and',\n",
              " 'i',\n",
              " 'love',\n",
              " 'learning',\n",
              " 'AI',\n",
              " '.',\n",
              " 'I',\n",
              " 'also',\n",
              " 'have',\n",
              " 'a',\n",
              " 'keen',\n",
              " 'interest',\n",
              " 'in',\n",
              " 'learning',\n",
              " 'and',\n",
              " 'doing',\n",
              " 'web',\n",
              " 'development',\n",
              " '!',\n",
              " 'i',\n",
              " 'am',\n",
              " 'looking',\n",
              " 'for',\n",
              " 'internships',\n",
              " '.']"
            ]
          },
          "metadata": {},
          "execution_count": 16
        }
      ]
    },
    {
      "cell_type": "code",
      "source": [
        "from nltk.tokenize import wordpunct_tokenize"
      ],
      "metadata": {
        "id": "pAd5dEACwOsr"
      },
      "execution_count": 17,
      "outputs": []
    },
    {
      "cell_type": "code",
      "source": [
        "wordswithpunct = wordpunct_tokenize(corpus)"
      ],
      "metadata": {
        "id": "DNTTvhmdwp4K"
      },
      "execution_count": 18,
      "outputs": []
    },
    {
      "cell_type": "code",
      "source": [
        "wordswithpunct\n"
      ],
      "metadata": {
        "colab": {
          "base_uri": "https://localhost:8080/"
        },
        "id": "GjAztWrgwu0h",
        "outputId": "13011c1e-572c-410f-93c2-ec488ba4ab43"
      },
      "execution_count": 19,
      "outputs": [
        {
          "output_type": "execute_result",
          "data": {
            "text/plain": [
              "['My',\n",
              " 'name',\n",
              " 'is',\n",
              " 'Tanishq',\n",
              " 'and',\n",
              " 'i',\n",
              " 'love',\n",
              " 'learning',\n",
              " 'AI',\n",
              " '.',\n",
              " 'I',\n",
              " 'also',\n",
              " 'have',\n",
              " 'a',\n",
              " 'keen',\n",
              " 'interest',\n",
              " 'in',\n",
              " 'learning',\n",
              " 'and',\n",
              " 'doing',\n",
              " 'web',\n",
              " 'development',\n",
              " '!',\n",
              " 'i',\n",
              " 'am',\n",
              " 'looking',\n",
              " 'for',\n",
              " 'internships',\n",
              " '.']"
            ]
          },
          "metadata": {},
          "execution_count": 19
        }
      ]
    },
    {
      "cell_type": "code",
      "source": [
        "from nltk.tokenize import TreebankWordTokenizer"
      ],
      "metadata": {
        "id": "5N6ay4itwwCF"
      },
      "execution_count": 20,
      "outputs": []
    },
    {
      "cell_type": "code",
      "source": [
        "tokenizer= TreebankWordTokenizer()\n"
      ],
      "metadata": {
        "id": "UiC0FBnXxX0l"
      },
      "execution_count": 21,
      "outputs": []
    },
    {
      "cell_type": "code",
      "source": [
        "tokenizer.tokenize(corpus)"
      ],
      "metadata": {
        "colab": {
          "base_uri": "https://localhost:8080/"
        },
        "id": "FbQkRghexhp8",
        "outputId": "d65e420f-ab8d-4281-df54-52b3d419a407"
      },
      "execution_count": 22,
      "outputs": [
        {
          "output_type": "execute_result",
          "data": {
            "text/plain": [
              "['My',\n",
              " 'name',\n",
              " 'is',\n",
              " 'Tanishq',\n",
              " 'and',\n",
              " 'i',\n",
              " 'love',\n",
              " 'learning',\n",
              " 'AI.',\n",
              " 'I',\n",
              " 'also',\n",
              " 'have',\n",
              " 'a',\n",
              " 'keen',\n",
              " 'interest',\n",
              " 'in',\n",
              " 'learning',\n",
              " 'and',\n",
              " 'doing',\n",
              " 'web',\n",
              " 'development',\n",
              " '!',\n",
              " 'i',\n",
              " 'am',\n",
              " 'looking',\n",
              " 'for',\n",
              " 'internships',\n",
              " '.']"
            ]
          },
          "metadata": {},
          "execution_count": 22
        }
      ]
    },
    {
      "cell_type": "markdown",
      "source": [
        "this will not treat full stops as seperate word."
      ],
      "metadata": {
        "id": "BVGS6Lp_xvtK"
      }
    },
    {
      "cell_type": "code",
      "source": [
        "words =[\"eating\", \"doing\",\"history\",\"congratulations\"];\n"
      ],
      "metadata": {
        "id": "vHtO_C2txueB"
      },
      "execution_count": 23,
      "outputs": []
    },
    {
      "cell_type": "code",
      "source": [
        "from nltk.stem import PorterStemmer"
      ],
      "metadata": {
        "id": "L16FmdYuBDT1"
      },
      "execution_count": 24,
      "outputs": []
    },
    {
      "cell_type": "code",
      "source": [
        "stemming = PorterStemmer()\n",
        "for word in words:\n",
        "  print(word+\"-->\"+stemming.stem(word))"
      ],
      "metadata": {
        "colab": {
          "base_uri": "https://localhost:8080/"
        },
        "id": "ZqABCrWMBGli",
        "outputId": "42dd90ed-8548-4ae6-dec9-8ae0976b7b9e"
      },
      "execution_count": 25,
      "outputs": [
        {
          "output_type": "stream",
          "name": "stdout",
          "text": [
            "eating-->eat\n",
            "doing-->do\n",
            "history-->histori\n",
            "congratulations-->congratul\n"
          ]
        }
      ]
    },
    {
      "cell_type": "markdown",
      "source": [
        "not very good and efficient"
      ],
      "metadata": {
        "id": "2YTuxX_gBqov"
      }
    },
    {
      "cell_type": "code",
      "source": [
        "from nltk.stem import RegexpStemmer"
      ],
      "metadata": {
        "id": "IzlcejMfBMn8"
      },
      "execution_count": 26,
      "outputs": []
    },
    {
      "cell_type": "code",
      "source": [
        "regstem = RegexpStemmer('ing$',min=4)"
      ],
      "metadata": {
        "id": "4pIuzxbMCBOu"
      },
      "execution_count": 27,
      "outputs": []
    },
    {
      "cell_type": "code",
      "source": [
        "regstem.stem('eating')"
      ],
      "metadata": {
        "colab": {
          "base_uri": "https://localhost:8080/",
          "height": 35
        },
        "id": "23ET6hfJCLFA",
        "outputId": "a3aafaf1-1c55-44e6-a56f-99267b2a601c"
      },
      "execution_count": 28,
      "outputs": [
        {
          "output_type": "execute_result",
          "data": {
            "text/plain": [
              "'eat'"
            ],
            "application/vnd.google.colaboratory.intrinsic+json": {
              "type": "string"
            }
          },
          "metadata": {},
          "execution_count": 28
        }
      ]
    },
    {
      "cell_type": "markdown",
      "source": [
        "***LEMMATIZER***"
      ],
      "metadata": {
        "id": "r5rx2snfFxnj"
      }
    },
    {
      "cell_type": "code",
      "source": [
        "from nltk.stem import WordNetLemmatizer"
      ],
      "metadata": {
        "id": "BlQEG89XCPTQ"
      },
      "execution_count": 29,
      "outputs": []
    },
    {
      "cell_type": "code",
      "source": [
        "lemmatizer =  WordNetLemmatizer()\n",
        "nltk.download('wordnet')"
      ],
      "metadata": {
        "colab": {
          "base_uri": "https://localhost:8080/"
        },
        "id": "znh4q066FWEK",
        "outputId": "2ce02d9c-0349-4b21-877a-a31a62f64a41"
      },
      "execution_count": 30,
      "outputs": [
        {
          "output_type": "stream",
          "name": "stderr",
          "text": [
            "[nltk_data] Downloading package wordnet to /root/nltk_data...\n"
          ]
        },
        {
          "output_type": "execute_result",
          "data": {
            "text/plain": [
              "True"
            ]
          },
          "metadata": {},
          "execution_count": 30
        }
      ]
    },
    {
      "cell_type": "code",
      "source": [
        "lemmatizer.lemmatize(\"going\",pos='v')"
      ],
      "metadata": {
        "colab": {
          "base_uri": "https://localhost:8080/",
          "height": 35
        },
        "id": "zZDD4w3zFZZ3",
        "outputId": "1e440242-9a6b-415f-c2d3-d89eccee69bc"
      },
      "execution_count": 31,
      "outputs": [
        {
          "output_type": "execute_result",
          "data": {
            "text/plain": [
              "'go'"
            ],
            "application/vnd.google.colaboratory.intrinsic+json": {
              "type": "string"
            }
          },
          "metadata": {},
          "execution_count": 31
        }
      ]
    },
    {
      "cell_type": "markdown",
      "source": [
        "***STOPWORDS***"
      ],
      "metadata": {
        "id": "1OfiM3CTcqF0"
      }
    },
    {
      "cell_type": "code",
      "source": [
        "import nltk\n",
        "nltk.download('stopwords')\n",
        "from nltk.corpus import stopwords"
      ],
      "metadata": {
        "colab": {
          "base_uri": "https://localhost:8080/"
        },
        "id": "tg_Bx-aPFocK",
        "outputId": "aa809e48-2bfb-4f2b-be7e-6d4c58f4e672"
      },
      "execution_count": 32,
      "outputs": [
        {
          "output_type": "stream",
          "name": "stderr",
          "text": [
            "[nltk_data] Downloading package stopwords to /root/nltk_data...\n",
            "[nltk_data]   Package stopwords is already up-to-date!\n"
          ]
        }
      ]
    },
    {
      "cell_type": "code",
      "source": [
        "stopwords.words('english')"
      ],
      "metadata": {
        "colab": {
          "base_uri": "https://localhost:8080/"
        },
        "id": "Z6nREuuhcvNI",
        "outputId": "b92dfb15-1145-4963-fa59-8c3deb38013f"
      },
      "execution_count": 33,
      "outputs": [
        {
          "output_type": "execute_result",
          "data": {
            "text/plain": [
              "['a',\n",
              " 'about',\n",
              " 'above',\n",
              " 'after',\n",
              " 'again',\n",
              " 'against',\n",
              " 'ain',\n",
              " 'all',\n",
              " 'am',\n",
              " 'an',\n",
              " 'and',\n",
              " 'any',\n",
              " 'are',\n",
              " 'aren',\n",
              " \"aren't\",\n",
              " 'as',\n",
              " 'at',\n",
              " 'be',\n",
              " 'because',\n",
              " 'been',\n",
              " 'before',\n",
              " 'being',\n",
              " 'below',\n",
              " 'between',\n",
              " 'both',\n",
              " 'but',\n",
              " 'by',\n",
              " 'can',\n",
              " 'couldn',\n",
              " \"couldn't\",\n",
              " 'd',\n",
              " 'did',\n",
              " 'didn',\n",
              " \"didn't\",\n",
              " 'do',\n",
              " 'does',\n",
              " 'doesn',\n",
              " \"doesn't\",\n",
              " 'doing',\n",
              " 'don',\n",
              " \"don't\",\n",
              " 'down',\n",
              " 'during',\n",
              " 'each',\n",
              " 'few',\n",
              " 'for',\n",
              " 'from',\n",
              " 'further',\n",
              " 'had',\n",
              " 'hadn',\n",
              " \"hadn't\",\n",
              " 'has',\n",
              " 'hasn',\n",
              " \"hasn't\",\n",
              " 'have',\n",
              " 'haven',\n",
              " \"haven't\",\n",
              " 'having',\n",
              " 'he',\n",
              " \"he'd\",\n",
              " \"he'll\",\n",
              " 'her',\n",
              " 'here',\n",
              " 'hers',\n",
              " 'herself',\n",
              " \"he's\",\n",
              " 'him',\n",
              " 'himself',\n",
              " 'his',\n",
              " 'how',\n",
              " 'i',\n",
              " \"i'd\",\n",
              " 'if',\n",
              " \"i'll\",\n",
              " \"i'm\",\n",
              " 'in',\n",
              " 'into',\n",
              " 'is',\n",
              " 'isn',\n",
              " \"isn't\",\n",
              " 'it',\n",
              " \"it'd\",\n",
              " \"it'll\",\n",
              " \"it's\",\n",
              " 'its',\n",
              " 'itself',\n",
              " \"i've\",\n",
              " 'just',\n",
              " 'll',\n",
              " 'm',\n",
              " 'ma',\n",
              " 'me',\n",
              " 'mightn',\n",
              " \"mightn't\",\n",
              " 'more',\n",
              " 'most',\n",
              " 'mustn',\n",
              " \"mustn't\",\n",
              " 'my',\n",
              " 'myself',\n",
              " 'needn',\n",
              " \"needn't\",\n",
              " 'no',\n",
              " 'nor',\n",
              " 'not',\n",
              " 'now',\n",
              " 'o',\n",
              " 'of',\n",
              " 'off',\n",
              " 'on',\n",
              " 'once',\n",
              " 'only',\n",
              " 'or',\n",
              " 'other',\n",
              " 'our',\n",
              " 'ours',\n",
              " 'ourselves',\n",
              " 'out',\n",
              " 'over',\n",
              " 'own',\n",
              " 're',\n",
              " 's',\n",
              " 'same',\n",
              " 'shan',\n",
              " \"shan't\",\n",
              " 'she',\n",
              " \"she'd\",\n",
              " \"she'll\",\n",
              " \"she's\",\n",
              " 'should',\n",
              " 'shouldn',\n",
              " \"shouldn't\",\n",
              " \"should've\",\n",
              " 'so',\n",
              " 'some',\n",
              " 'such',\n",
              " 't',\n",
              " 'than',\n",
              " 'that',\n",
              " \"that'll\",\n",
              " 'the',\n",
              " 'their',\n",
              " 'theirs',\n",
              " 'them',\n",
              " 'themselves',\n",
              " 'then',\n",
              " 'there',\n",
              " 'these',\n",
              " 'they',\n",
              " \"they'd\",\n",
              " \"they'll\",\n",
              " \"they're\",\n",
              " \"they've\",\n",
              " 'this',\n",
              " 'those',\n",
              " 'through',\n",
              " 'to',\n",
              " 'too',\n",
              " 'under',\n",
              " 'until',\n",
              " 'up',\n",
              " 've',\n",
              " 'very',\n",
              " 'was',\n",
              " 'wasn',\n",
              " \"wasn't\",\n",
              " 'we',\n",
              " \"we'd\",\n",
              " \"we'll\",\n",
              " \"we're\",\n",
              " 'were',\n",
              " 'weren',\n",
              " \"weren't\",\n",
              " \"we've\",\n",
              " 'what',\n",
              " 'when',\n",
              " 'where',\n",
              " 'which',\n",
              " 'while',\n",
              " 'who',\n",
              " 'whom',\n",
              " 'why',\n",
              " 'will',\n",
              " 'with',\n",
              " 'won',\n",
              " \"won't\",\n",
              " 'wouldn',\n",
              " \"wouldn't\",\n",
              " 'y',\n",
              " 'you',\n",
              " \"you'd\",\n",
              " \"you'll\",\n",
              " 'your',\n",
              " \"you're\",\n",
              " 'yours',\n",
              " 'yourself',\n",
              " 'yourselves',\n",
              " \"you've\"]"
            ]
          },
          "metadata": {},
          "execution_count": 33
        }
      ]
    },
    {
      "cell_type": "code",
      "source": [
        "paragraph =\"\"\"Artificial Intelligence (AI) has become an integral part of our daily routines, often without us even realizing it. From waking up to a smart alarm that analyzes your sleep pattern, to using facial recognition to unlock your phone, AI influences many aspects of modern life. Voice assistants like Alexa, Siri, and Google Assistant make it easier to control smart devices, check the weather, or manage your calendar using simple voice commands. When you scroll through your social media feed, AI is working behind the scenes to personalize your experience based on your interests and behavior.\n",
        "\n",
        "Online shopping platforms recommend products tailored to your preferences using AI algorithms. Streaming services such as Netflix or Spotify suggest what to watch or listen to next, based on your past activity. AI is also present in navigation apps like Google Maps or Waze, providing real-time traffic updates and the fastest routes. In the field of healthcare, AI helps in early diagnosis by analyzing medical images and patient data more efficiently than traditional methods.\n",
        "\n",
        "Banking apps use AI for fraud detection, instantly flagging unusual transactions and protecting users from potential threats. Even while composing emails, AI tools offer grammar suggestions and autocomplete features to improve communication. In education, personalized learning platforms use AI to adapt content to each student’s pace and understanding. AI-powered chatbots are now common in customer service, capable of answering queries instantly and around the clock.\n",
        "\n",
        "The agriculture sector benefits from AI in crop monitoring and yield prediction, helping farmers make informed decisions. In manufacturing, robots guided by AI streamline production lines, increasing efficiency and reducing human error. AI is also making strides in environmental monitoring, from tracking climate change to managing energy consumption in smart homes. While some fear job loss due to automation, AI is also creating new roles and transforming existing ones in every industry.\n",
        "\n",
        "From simplifying tasks to driving innovation, AI is shaping the future of work and lifestyle. As the technology evolves, ethical and privacy concerns must be addressed to ensure responsible use. Education about AI is becoming essential for the next generation to adapt and thrive in a tech-driven world. The possibilities are vast, and we’re only scratching the surface of AI’s full potential. Whether it's in your smartphone, your car, or your workplace, AI continues to redefine what’s possible every single day.\n",
        "\n",
        "\"\"\"\n"
      ],
      "metadata": {
        "id": "PNpeK110eTLA"
      },
      "execution_count": 34,
      "outputs": []
    },
    {
      "cell_type": "code",
      "source": [
        "sentences = nltk.sent_tokenize(paragraph)\n",
        "sentences2 = nltk.sent_tokenize(paragraph)"
      ],
      "metadata": {
        "id": "VKs1Yor9c0EM"
      },
      "execution_count": 44,
      "outputs": []
    },
    {
      "cell_type": "code",
      "source": [
        "sentences"
      ],
      "metadata": {
        "colab": {
          "base_uri": "https://localhost:8080/"
        },
        "id": "rOB942c0ehm2",
        "outputId": "ebcbb82e-3b65-40f5-aca6-05b9cb6eed9b"
      },
      "execution_count": 36,
      "outputs": [
        {
          "output_type": "execute_result",
          "data": {
            "text/plain": [
              "['Artificial Intelligence (AI) has become an integral part of our daily routines, often without us even realizing it.',\n",
              " 'From waking up to a smart alarm that analyzes your sleep pattern, to using facial recognition to unlock your phone, AI influences many aspects of modern life.',\n",
              " 'Voice assistants like Alexa, Siri, and Google Assistant make it easier to control smart devices, check the weather, or manage your calendar using simple voice commands.',\n",
              " 'When you scroll through your social media feed, AI is working behind the scenes to personalize your experience based on your interests and behavior.',\n",
              " 'Online shopping platforms recommend products tailored to your preferences using AI algorithms.',\n",
              " 'Streaming services such as Netflix or Spotify suggest what to watch or listen to next, based on your past activity.',\n",
              " 'AI is also present in navigation apps like Google Maps or Waze, providing real-time traffic updates and the fastest routes.',\n",
              " 'In the field of healthcare, AI helps in early diagnosis by analyzing medical images and patient data more efficiently than traditional methods.',\n",
              " 'Banking apps use AI for fraud detection, instantly flagging unusual transactions and protecting users from potential threats.',\n",
              " 'Even while composing emails, AI tools offer grammar suggestions and autocomplete features to improve communication.',\n",
              " 'In education, personalized learning platforms use AI to adapt content to each student’s pace and understanding.',\n",
              " 'AI-powered chatbots are now common in customer service, capable of answering queries instantly and around the clock.',\n",
              " 'The agriculture sector benefits from AI in crop monitoring and yield prediction, helping farmers make informed decisions.',\n",
              " 'In manufacturing, robots guided by AI streamline production lines, increasing efficiency and reducing human error.',\n",
              " 'AI is also making strides in environmental monitoring, from tracking climate change to managing energy consumption in smart homes.',\n",
              " 'While some fear job loss due to automation, AI is also creating new roles and transforming existing ones in every industry.',\n",
              " 'From simplifying tasks to driving innovation, AI is shaping the future of work and lifestyle.',\n",
              " 'As the technology evolves, ethical and privacy concerns must be addressed to ensure responsible use.',\n",
              " 'Education about AI is becoming essential for the next generation to adapt and thrive in a tech-driven world.',\n",
              " 'The possibilities are vast, and we’re only scratching the surface of AI’s full potential.',\n",
              " \"Whether it's in your smartphone, your car, or your workplace, AI continues to redefine what’s possible every single day.\"]"
            ]
          },
          "metadata": {},
          "execution_count": 36
        }
      ]
    },
    {
      "cell_type": "code",
      "source": [
        "for i in range(len(sentences)):\n",
        "    words = nltk.word_tokenize(sentences[i])\n",
        "    words= [stemming.stem(word) for word in words if word not in set(stopwords.words('english'))]\n",
        "    sentences[i]=' '.join(words)"
      ],
      "metadata": {
        "id": "mFNTErHPesxL"
      },
      "execution_count": 40,
      "outputs": []
    },
    {
      "cell_type": "code",
      "source": [
        "sentences"
      ],
      "metadata": {
        "colab": {
          "base_uri": "https://localhost:8080/"
        },
        "id": "KhGORa9TfKgt",
        "outputId": "0591b789-26fd-4772-f2e4-33c4bf08d170"
      },
      "execution_count": 41,
      "outputs": [
        {
          "output_type": "execute_result",
          "data": {
            "text/plain": [
              "['artificiintellig ( ai ) becomintegrpartdailiroutin , oftenwithoutusevenrealiz .',\n",
              " 'fromwakesmartalarmanalyzsleeppattern , usefacialrecognitunlockphon , aiinfluencmaniaspectmodernlif .',\n",
              " 'voicassistlikealexa , siri , googlassistmakeeasiercontrolsmartdev , checkweath , managcalendarusesimplvoiccommand .',\n",
              " 'whenscrollsocialmediafe , aiworkbehindscenepersonexperibaseinterestbehavior .',\n",
              " 'onlinshopplatformrecommendproducttailorpreferuseaialgorithm .',\n",
              " 'streamservicnetflixspotifisuggestwatchlistennext , basepastactiv .',\n",
              " 'aialsopresentnavigapplikegooglmapwaz , providreal-timtrafficupdatfastestrout .',\n",
              " 'infieldhealthcar , aihelpearlidiagnosianalyzmedicimagpatientdataefficitraditmethod .',\n",
              " 'bankappuseaifrauddetect , instantliflagunusutransactprotectuserpotentithreat .',\n",
              " 'evencomposemail , aitooloffergrammarsuggestautocompletfeaturimprovcommun .',\n",
              " 'ineduc , personlearnplatformuseaiadaptcontentstud ’ paceunderstand .',\n",
              " 'ai-powchatbotcommoncustomserv , capablanswerqueriinstantliaroundclock .',\n",
              " 'theagricultursectorbenefitaicropmonitoryieldpredict , helpfarmermakeinformdeci .',\n",
              " 'inmanufactur , robotguidaistreamlinproductlin , increasefficireduchumanerror .',\n",
              " 'aialsomakestrideenvironmentmonitor , trackclimatchangmanagenergiconsumptsmarthom .',\n",
              " 'whilefearjoblossdueautom , aialsocreatnewroletransformexistoneeveriindustri .',\n",
              " 'fromsimplifitaskdriveinnov , aishapefuturworklifestyl .',\n",
              " 'astechnologevolv , ethicprivaciconcernmustaddressensurresponsus .',\n",
              " 'educaibecomessentinextgeneradaptthrivetech-drivenworld .',\n",
              " 'thepossiblvast , ’ scratchsurfacai ’ fullpotenti .',\n",
              " \"whether'ssmartphon , car , workplac , aicontinuredefin ’ possibleverisinglday .\"]"
            ]
          },
          "metadata": {},
          "execution_count": 41
        }
      ]
    },
    {
      "cell_type": "code",
      "source": [
        "for i in range(len(sentences)):\n",
        "    words = nltk.word_tokenize(sentences[i])\n",
        "    words= [lemmatizer.lemmatize(word.lower(), pos='v') for word in words if word not in set(stopwords.words('english'))]\n",
        "    sentences2[i]=' '.join(words)"
      ],
      "metadata": {
        "id": "qhO8e_QHfZdy"
      },
      "execution_count": 49,
      "outputs": []
    },
    {
      "cell_type": "code",
      "source": [
        "sentences2"
      ],
      "metadata": {
        "colab": {
          "base_uri": "https://localhost:8080/"
        },
        "id": "dYWOGErZgZrA",
        "outputId": "5bab4d19-df9e-45db-e808-17d1bee29134"
      },
      "execution_count": 50,
      "outputs": [
        {
          "output_type": "execute_result",
          "data": {
            "text/plain": [
              "['artificial intelligence ( ai ) become integral part daily routines , often without us even realize .',\n",
              " 'from wake smart alarm analyze sleep pattern , use facial recognition unlock phone , ai influence many aspects modern life .',\n",
              " 'voice assistants like alexa , siri , google assistant make easier control smart devices , check weather , manage calendar use simple voice command .',\n",
              " 'when scroll social media fee , ai work behind scenes personalize experience base interest behavior .',\n",
              " 'online shop platforms recommend products tailor preferences use ai algorithms .',\n",
              " 'stream service netflix spotify suggest watch listen next , base past activity .',\n",
              " 'ai also present navigation apps like google map waze , provide real-time traffic update fastest rout .',\n",
              " 'in field healthcare , ai help early diagnosis analyze medical image patient data efficiently traditional methods .',\n",
              " 'bank apps use ai fraud detection , instantly flag unusual transactions protect users potential threats .',\n",
              " 'even compose email , ai tool offer grammar suggestions autocomplete feature improve communication .',\n",
              " 'in education , personalize learn platforms use ai adapt content student ’ pace understand .',\n",
              " 'ai-powered chatbots common customer service , capable answer query instantly around clock .',\n",
              " 'the agriculture sector benefit ai crop monitor yield prediction , help farmers make inform decisions .',\n",
              " 'in manufacture , robots guide ai streamline production line , increase efficiency reduce human error .',\n",
              " 'ai also make stride environmental monitor , track climate change manage energy consumption smart home .',\n",
              " 'while fear job loss due automation , ai also create new roles transform exist ones every industry .',\n",
              " 'from simplify task drive innovation , ai shape future work lifestyle .',\n",
              " 'as technology evolve , ethical privacy concern must address ensure responsible use .',\n",
              " 'education ai become essential next generation adapt thrive tech-driven world .',\n",
              " 'the possibilities vast , ’ scratch surface ai ’ full potential .',\n",
              " \"whether 's smartphone , car , workplace , ai continue redefine ’ possible every single day .\"]"
            ]
          },
          "metadata": {},
          "execution_count": 50
        }
      ]
    },
    {
      "cell_type": "markdown",
      "source": [
        "PARTS OF SPEECH TAGGING"
      ],
      "metadata": {
        "id": "PGScjbDWjUcP"
      }
    },
    {
      "cell_type": "code",
      "source": [
        "nltk.download('averaged_perceptron_tagger_eng')"
      ],
      "metadata": {
        "colab": {
          "base_uri": "https://localhost:8080/"
        },
        "id": "zVS0ETGojhY4",
        "outputId": "40af74b6-8611-4e58-c38f-bf2420cee935"
      },
      "execution_count": 53,
      "outputs": [
        {
          "output_type": "stream",
          "name": "stderr",
          "text": [
            "[nltk_data] Downloading package averaged_perceptron_tagger_eng to\n",
            "[nltk_data]     /root/nltk_data...\n",
            "[nltk_data]   Unzipping taggers/averaged_perceptron_tagger_eng.zip.\n"
          ]
        },
        {
          "output_type": "execute_result",
          "data": {
            "text/plain": [
              "True"
            ]
          },
          "metadata": {},
          "execution_count": 53
        }
      ]
    },
    {
      "cell_type": "code",
      "source": [
        "for i in range(len(sentences)):\n",
        "    words = nltk.word_tokenize(sentences[i])\n",
        "    words= [stemming.stem(word) for word in words if word not in set(stopwords.words('english'))]\n",
        "    pos_tag =nltk.pos_tag(words)\n",
        "    print(pos_tag)"
      ],
      "metadata": {
        "colab": {
          "base_uri": "https://localhost:8080/"
        },
        "id": "54xnQWwEga7L",
        "outputId": "8276d696-0349-4fb4-96a4-5fe1f1bdfb10"
      },
      "execution_count": 54,
      "outputs": [
        {
          "output_type": "stream",
          "name": "stdout",
          "text": [
            "[('artifici', 'NN'), ('intellig', 'NN'), ('(', '('), ('ai', 'NN'), (')', ')'), ('becom', 'NN'), ('integr', 'JJ'), ('part', 'NN'), ('daili', 'NN'), ('routin', 'NN'), (',', ','), ('often', 'RB'), ('without', 'IN'), ('us', 'PRP'), ('even', 'RB'), ('realiz', 'VBP'), ('.', '.')]\n",
            "[('from', 'IN'), ('wake', 'JJ'), ('smart', 'JJ'), ('alarm', 'NN'), ('analyz', 'NN'), ('sleep', 'NN'), ('pattern', 'NN'), (',', ','), ('use', 'VBP'), ('facial', 'JJ'), ('recognit', 'NN'), ('unlock', 'NN'), ('phone', 'NN'), (',', ','), ('ai', 'VBP'), ('influenc', 'JJ'), ('mani', 'NN'), ('aspect', 'NN'), ('modern', 'JJ'), ('life', 'NN'), ('.', '.')]\n",
            "[('voic', 'JJ'), ('assist', 'NN'), ('like', 'IN'), ('alexa', 'NN'), (',', ','), ('siri', 'NN'), (',', ','), ('googl', 'JJ'), ('assist', 'NN'), ('make', 'VBP'), ('easier', 'JJR'), ('control', 'NN'), ('smart', 'JJ'), ('devic', 'NN'), (',', ','), ('check', 'VB'), ('weather', 'NN'), (',', ','), ('manag', 'NN'), ('calendar', 'NN'), ('use', 'NN'), ('simpl', 'JJ'), ('voic', 'NN'), ('command', 'NN'), ('.', '.')]\n",
            "[('when', 'WRB'), ('scroll', 'NN'), ('social', 'JJ'), ('media', 'NNS'), ('feed', 'NN'), (',', ','), ('ai', 'VBP'), ('work', 'NN'), ('behind', 'IN'), ('scene', 'JJ'), ('person', 'NN'), ('experi', 'JJ'), ('base', 'NN'), ('interest', 'NN'), ('behavior', 'NN'), ('.', '.')]\n",
            "[('onlin', 'NN'), ('shop', 'NN'), ('platform', 'NN'), ('recommend', 'VBP'), ('product', 'NN'), ('tailor', 'NN'), ('prefer', 'VBP'), ('use', 'NN'), ('ai', 'NN'), ('algorithm', 'NN'), ('.', '.')]\n",
            "[('stream', 'NN'), ('servic', 'NN'), ('netflix', 'NN'), ('spotifi', 'JJ'), ('suggest', 'VBP'), ('watch', 'NN'), ('listen', 'NN'), ('next', 'JJ'), (',', ','), ('base', 'JJ'), ('past', 'NN'), ('activ', 'NN'), ('.', '.')]\n",
            "[('ai', 'NN'), ('also', 'RB'), ('present', 'JJ'), ('navig', 'RB'), ('app', 'VBP'), ('like', 'IN'), ('googl', 'NN'), ('map', 'NN'), ('waze', 'NN'), (',', ','), ('provid', 'JJ'), ('real-tim', 'NN'), ('traffic', 'NN'), ('updat', 'JJ'), ('fastest', 'JJS'), ('rout', 'NN'), ('.', '.')]\n",
            "[('in', 'IN'), ('field', 'NN'), ('healthcar', 'NN'), (',', ','), ('ai', 'VBP'), ('help', 'NN'), ('earli', 'VB'), ('diagnosi', 'JJ'), ('analyz', 'NN'), ('medic', 'JJ'), ('imag', 'JJ'), ('patient', 'NN'), ('data', 'NNS'), ('effici', 'VBP'), ('tradit', 'NN'), ('method', 'NN'), ('.', '.')]\n",
            "[('bank', 'NN'), ('app', 'NN'), ('use', 'NN'), ('ai', 'NN'), ('fraud', 'NN'), ('detect', 'NN'), (',', ','), ('instantli', 'JJ'), ('flag', 'NN'), ('unusu', 'JJ'), ('transact', 'NN'), ('protect', 'VBP'), ('user', 'NN'), ('potenti', 'NN'), ('threat', 'NN'), ('.', '.')]\n",
            "[('even', 'RB'), ('compos', 'JJR'), ('email', 'NN'), (',', ','), ('ai', 'JJ'), ('tool', 'NN'), ('offer', 'NN'), ('grammar', 'NN'), ('suggest', 'VBP'), ('autocomplet', 'NN'), ('featur', 'NN'), ('improv', 'NN'), ('commun', 'NN'), ('.', '.')]\n",
            "[('in', 'IN'), ('educ', 'NN'), (',', ','), ('person', 'NN'), ('learn', 'JJ'), ('platform', 'NN'), ('use', 'NN'), ('ai', 'VBP'), ('adapt', 'NN'), ('content', 'NN'), ('student', 'NN'), ('’', 'JJ'), ('pace', 'NN'), ('understand', 'NN'), ('.', '.')]\n",
            "[('ai-pow', 'JJ'), ('chatbot', 'NN'), ('common', 'JJ'), ('custom', 'NN'), ('servic', 'NN'), (',', ','), ('capabl', 'NN'), ('answer', 'NN'), ('queri', 'NN'), ('instantli', 'NN'), ('around', 'IN'), ('clock', 'NN'), ('.', '.')]\n",
            "[('the', 'DT'), ('agricultur', 'NN'), ('sector', 'NN'), ('benefit', 'NN'), ('ai', 'JJ'), ('crop', 'NN'), ('monitor', 'NN'), ('yield', 'NN'), ('predict', 'NN'), (',', ','), ('help', 'NN'), ('farmer', 'VB'), ('make', 'VB'), ('inform', 'JJ'), ('decis', 'NN'), ('.', '.')]\n",
            "[('in', 'IN'), ('manufactur', 'NN'), (',', ','), ('robot', 'NN'), ('guid', 'NN'), ('ai', 'VBP'), ('streamlin', 'JJ'), ('product', 'NN'), ('line', 'NN'), (',', ','), ('increas', 'JJ'), ('effici', 'VBP'), ('reduc', 'JJ'), ('human', 'JJ'), ('error', 'NN'), ('.', '.')]\n",
            "[('ai', 'NN'), ('also', 'RB'), ('make', 'VBP'), ('stride', 'JJ'), ('environment', 'NN'), ('monitor', 'NN'), (',', ','), ('track', 'NN'), ('climat', 'NN'), ('chang', 'NN'), ('manag', 'NN'), ('energi', 'NN'), ('consumpt', 'JJ'), ('smart', 'JJ'), ('home', 'NN'), ('.', '.')]\n",
            "[('while', 'IN'), ('fear', 'JJ'), ('job', 'NN'), ('loss', 'NN'), ('due', 'JJ'), ('autom', 'NN'), (',', ','), ('ai', 'NN'), ('also', 'RB'), ('creat', 'VBD'), ('new', 'JJ'), ('role', 'NN'), ('transform', 'NN'), ('exist', 'VBP'), ('one', 'CD'), ('everi', 'NN'), ('industri', 'NN'), ('.', '.')]\n",
            "[('from', 'IN'), ('simplifi', 'JJ'), ('task', 'NN'), ('drive', 'NN'), ('innov', 'NN'), (',', ','), ('ai', 'VBP'), ('shape', 'NN'), ('futur', 'NN'), ('work', 'NN'), ('lifestyl', 'NN'), ('.', '.')]\n",
            "[('as', 'IN'), ('technolog', 'NN'), ('evolv', 'NN'), (',', ','), ('ethic', 'JJ'), ('privaci', 'NN'), ('concern', 'NN'), ('must', 'MD'), ('address', 'VB'), ('ensur', 'JJ'), ('respons', 'NNS'), ('use', 'VBP'), ('.', '.')]\n",
            "[('educ', 'NN'), ('ai', 'VBP'), ('becom', 'NN'), ('essenti', 'NN'), ('next', 'JJ'), ('gener', 'NN'), ('adapt', 'JJ'), ('thrive', 'JJ'), ('tech-driven', 'JJ'), ('world', 'NN'), ('.', '.')]\n",
            "[('the', 'DT'), ('possibl', 'NN'), ('vast', 'NN'), (',', ','), ('’', 'NNP'), ('scratch', 'NN'), ('surfac', 'NN'), ('ai', 'VBP'), ('’', 'CC'), ('full', 'JJ'), ('potenti', 'NN'), ('.', '.')]\n",
            "[('whether', 'IN'), (\"'s\", 'POS'), ('smartphon', 'NN'), (',', ','), ('car', 'NN'), (',', ','), ('workplac', 'NN'), (',', ','), ('ai', 'VBP'), ('continu', 'JJ'), ('redefin', 'NN'), ('’', 'NNP'), ('possibl', 'NN'), ('everi', 'NN'), ('singl', 'JJ'), ('day', 'NN'), ('.', '.')]\n"
          ]
        }
      ]
    },
    {
      "cell_type": "code",
      "source": [
        "list = nltk.sent_tokenize('taj mahal is a beautiful monument')\n",
        "list\n",
        "sent_pos = nltk.pos_tag(list)\n",
        "print(sent_pos)\n"
      ],
      "metadata": {
        "colab": {
          "base_uri": "https://localhost:8080/"
        },
        "id": "znhjAP90jcQO",
        "outputId": "f273b0c4-a500-438f-aa44-e6846ca53e8d"
      },
      "execution_count": 61,
      "outputs": [
        {
          "output_type": "stream",
          "name": "stdout",
          "text": [
            "[('taj mahal is a beautiful monument', 'NN')]\n"
          ]
        }
      ]
    },
    {
      "cell_type": "code",
      "source": [
        " print(nltk.pos_tag('taj mahal is a beautiful monument'.split()))"
      ],
      "metadata": {
        "colab": {
          "base_uri": "https://localhost:8080/"
        },
        "id": "ZHaFnZCCj8XH",
        "outputId": "a086eaec-aad9-41ce-c883-027262a4a4b3"
      },
      "execution_count": 58,
      "outputs": [
        {
          "output_type": "stream",
          "name": "stdout",
          "text": [
            "[('taj', 'NN'), ('mahal', 'NN'), ('is', 'VBZ'), ('a', 'DT'), ('beautiful', 'JJ'), ('monument', 'NN')]\n"
          ]
        }
      ]
    },
    {
      "cell_type": "code",
      "source": [],
      "metadata": {
        "id": "SVd-Ibmxks1G"
      },
      "execution_count": null,
      "outputs": []
    }
  ]
}